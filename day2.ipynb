{
 "cells": [
  {
   "cell_type": "markdown",
   "id": "db0d1b4a-17b7-4d4a-b8c2-2d237026ea4f",
   "metadata": {},
   "source": [
    "# Lists: Ordered, mutable collection of elements"
   ]
  },
  {
   "cell_type": "code",
   "execution_count": null,
   "id": "d3dae14a-cc6b-4373-aaa3-2f8b94e48801",
   "metadata": {},
   "outputs": [],
   "source": [
    "my_list = [1,2,3, \"Hello\", False, 4.5]\n",
    "type(my_list)"
   ]
  },
  {
   "cell_type": "code",
   "execution_count": null,
   "id": "34229e04-f204-4c2b-a743-a1235702fbbe",
   "metadata": {},
   "outputs": [],
   "source": [
    "print(my_list)"
   ]
  },
  {
   "cell_type": "code",
   "execution_count": null,
   "id": "e35fc2d7-1a24-4439-af2a-24e7044c93a4",
   "metadata": {},
   "outputs": [],
   "source": [
    "my_list.append(\"new element\")\n",
    "my_list"
   ]
  },
  {
   "cell_type": "code",
   "execution_count": null,
   "id": "128d04f4-709b-4c43-94d3-dccc8d351df1",
   "metadata": {},
   "outputs": [],
   "source": [
    "my_list.remove(\"new element\")\n",
    "my_list"
   ]
  },
  {
   "cell_type": "code",
   "execution_count": null,
   "id": "ba42f761-c5ff-4111-ab9a-bbe146ea122d",
   "metadata": {},
   "outputs": [],
   "source": [
    "my_list.pop(2)\n",
    "my_list"
   ]
  },
  {
   "cell_type": "markdown",
   "id": "d95b7f4b-730f-4333-84ab-b5eeee9ce3d6",
   "metadata": {},
   "source": [
    "# Tuples: ordered, non mutable collections of elements"
   ]
  },
  {
   "cell_type": "code",
   "execution_count": null,
   "id": "eb7f47b1-76c9-49bc-90f2-e6a0678b4619",
   "metadata": {},
   "outputs": [],
   "source": [
    "my_tuple = (\"apple\", \"banana\", \"cherry\")\n",
    "my_tuple"
   ]
  },
  {
   "cell_type": "code",
   "execution_count": null,
   "id": "162c4229-7d60-481e-b726-d45385808bc1",
   "metadata": {},
   "outputs": [],
   "source": [
    "my_tuple[1]"
   ]
  },
  {
   "cell_type": "markdown",
   "id": "7da9bc19-c353-45ca-8952-fed827c8f2c1",
   "metadata": {},
   "source": [
    "# Dictionaries: unordered, mutable collections of items"
   ]
  },
  {
   "cell_type": "code",
   "execution_count": null,
   "id": "1aa4882d-63f8-4f11-af99-48d80f441055",
   "metadata": {},
   "outputs": [],
   "source": [
    "my_dictionary= {\"name\": \"Alice\",\n",
    "    \"age\": 18,\n",
    "    \"location\": \"US\"}\n",
    "    \n",
    "print(my_dictionary)"
   ]
  },
  {
   "cell_type": "code",
   "execution_count": null,
   "id": "c6eb4a8a-4518-4a95-a5eb-6a4c64819f30",
   "metadata": {},
   "outputs": [],
   "source": [
    "my_dictionary[\"location\"] = \"Serbia\"\n",
    "my_dictionary"
   ]
  },
  {
   "cell_type": "markdown",
   "id": "4ccc7654-1e07-457d-8e1b-ba54390e8794",
   "metadata": {},
   "source": [
    "# Sets: unordered, mutable collections of unique elements"
   ]
  },
  {
   "cell_type": "code",
   "execution_count": null,
   "id": "2c934d32-b200-460b-a8a8-4163e35d3f63",
   "metadata": {},
   "outputs": [],
   "source": [
    "my_set={1,2,3,4,5}\n",
    "my_set"
   ]
  },
  {
   "cell_type": "code",
   "execution_count": null,
   "id": "ad100b89-f83a-4b7e-b3b3-addd679b64fe",
   "metadata": {},
   "outputs": [],
   "source": [
    "my_set={1,2,2,3,3,4,4,5}\n",
    "my_set"
   ]
  },
  {
   "cell_type": "code",
   "execution_count": null,
   "id": "e40cb5f4-73e9-45b5-96f8-02c6f073b8c3",
   "metadata": {},
   "outputs": [],
   "source": [
    "my_set[3]\n",
    "my_set"
   ]
  },
  {
   "cell_type": "code",
   "execution_count": null,
   "id": "d3841915-ff76-4c7b-88b6-920936a5010f",
   "metadata": {},
   "outputs": [],
   "source": []
  },
  {
   "cell_type": "code",
   "execution_count": 7,
   "id": "d487fd35-3829-44a1-ba6e-3a99cfd7f00b",
   "metadata": {},
   "outputs": [
    {
     "name": "stdout",
     "output_type": "stream",
     "text": [
      "Ten is bigger than 5\n"
     ]
    }
   ],
   "source": [
    "if 10>5:\n",
    "    print(\"Ten is bigger than 5\")\n",
    "elif \"A\" == \"B\":\n",
    "    print(\"equal\")\n",
    "    "
   ]
  },
  {
   "cell_type": "code",
   "execution_count": 24,
   "id": "b3c6ac90-5b12-4e7e-977c-e06170bc140f",
   "metadata": {},
   "outputs": [
    {
     "name": "stdin",
     "output_type": "stream",
     "text": [
      "Enter a Number: 29490143847\n"
     ]
    },
    {
     "name": "stdout",
     "output_type": "stream",
     "text": [
      "positive\n"
     ]
    }
   ],
   "source": [
    "x=int(input(\"Enter a Number:\"))\n",
    "\n",
    "if x>0:\n",
    "    print (\"positive\")\n",
    "elif x==0:\n",
    "    print(\"zero\")\n",
    "elif x<0:\n",
    "    print(\"negative\")\n",
    "else:\n",
    "    print(\"Input a Numberr\")\n",
    "\n"
   ]
  },
  {
   "cell_type": "code",
   "execution_count": 32,
   "id": "1c6d8881-0a44-497f-a5a5-ddb3346d1e8c",
   "metadata": {},
   "outputs": [
    {
     "name": "stdin",
     "output_type": "stream",
     "text": [
      "Enter your age: 20\n"
     ]
    },
    {
     "name": "stdout",
     "output_type": "stream",
     "text": [
      "Adult\n"
     ]
    }
   ],
   "source": [
    "x=int(input(\"Enter your age:\"))\n",
    "\n",
    "if x<13:\n",
    "    print (\"Child\")\n",
    "elif x<19:\n",
    "    print(\"Teenager\")\n",
    "elif 20<=x<=65:\n",
    "    print(\"Adult\")\n",
    "else:\n",
    "    print(\"Senior\")"
   ]
  },
  {
   "cell_type": "code",
   "execution_count": null,
   "id": "ca57803f-d74e-4e19-8f03-634cf625e856",
   "metadata": {},
   "outputs": [],
   "source": [
    "x=int(input(\"Grade:\"))\n",
    "\n",
    "if x<60:\n",
    "    print (\"F\")\n",
    "elif x<69:\n",
    "    print(\"D\")\n",
    "elif x<79:\n",
    "    print(\"C\")\n",
    "\n",
    "else:\n",
    "    print(\"Senior\")\n"
   ]
  },
  {
   "cell_type": "code",
   "execution_count": 8,
   "id": "92835043-7125-4d2d-8f4d-219cbc92fa9c",
   "metadata": {},
   "outputs": [
    {
     "name": "stdin",
     "output_type": "stream",
     "text": [
      " 10\n"
     ]
    }
   ],
   "source": [
    "x=int(input())\n",
    "while x%2!=0:\n",
    "    print(\"Please enter an even number\")\n",
    "    x=int (input(\"enter a number:\"))\n",
    "    if x%2==0:\n",
    "        break\n",
    "    print(\"f{x} is even\")"
   ]
  },
  {
   "cell_type": "code",
   "execution_count": 14,
   "id": "b70ec0ef-a701-4cc5-9b15-3d802c3042b7",
   "metadata": {},
   "outputs": [
    {
     "name": "stdin",
     "output_type": "stream",
     "text": [
      "Enter a number:  21\n"
     ]
    },
    {
     "name": "stdout",
     "output_type": "stream",
     "text": [
      "Please enter an even number\n"
     ]
    },
    {
     "name": "stdin",
     "output_type": "stream",
     "text": [
      "Enter a number:  11\n"
     ]
    },
    {
     "name": "stdout",
     "output_type": "stream",
     "text": [
      "Please enter an even number\n"
     ]
    },
    {
     "name": "stdin",
     "output_type": "stream",
     "text": [
      "Enter a number:  55\n"
     ]
    },
    {
     "name": "stdout",
     "output_type": "stream",
     "text": [
      "Please enter an even number\n"
     ]
    },
    {
     "name": "stdin",
     "output_type": "stream",
     "text": [
      "Enter a number:  54\n"
     ]
    },
    {
     "name": "stdout",
     "output_type": "stream",
     "text": [
      "54 is even\n"
     ]
    }
   ],
   "source": [
    "x = int(input(\"Enter a number: \"))\n",
    "\n",
    "while x % 2 != 0: \n",
    "    print(\"Please enter an even number\")\n",
    "    x = int(input(\"Enter a number: \"))  \n",
    "\n",
    "print(f\"{x} is even\")"
   ]
  },
  {
   "cell_type": "code",
   "execution_count": null,
   "id": "a12a16a4-ab64-44bc-a110-40dc27a0f3c5",
   "metadata": {},
   "outputs": [],
   "source": [
    "x = input(\"Insert a number: \")\n",
    "\n",
    "while True:\n",
    "    if x.isnumeric():\n",
    "        x = int(x)\n",
    "        if x % 2 == 0:\n",
    "            print(f\"{x} è pari\")\n",
    "            break\n",
    "        else:\n",
    "            print(\"Number must be even\")\n",
    "    else:\n",
    "        print(\"Insert numbers only\")\n",
    "\n",
    "    x = input(\"Insert a number: \")"
   ]
  },
  {
   "cell_type": "code",
   "execution_count": null,
   "id": "e12ef4d6-dfb1-4ffa-a941-e97baa38c856",
   "metadata": {},
   "outputs": [],
   "source": []
  }
 ],
 "metadata": {
  "kernelspec": {
   "display_name": "masterds",
   "language": "python",
   "name": "masterds"
  },
  "language_info": {
   "codemirror_mode": {
    "name": "ipython",
    "version": 3
   },
   "file_extension": ".py",
   "mimetype": "text/x-python",
   "name": "python",
   "nbconvert_exporter": "python",
   "pygments_lexer": "ipython3",
   "version": "3.11.11"
  }
 },
 "nbformat": 4,
 "nbformat_minor": 5
}
